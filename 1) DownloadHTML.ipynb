{
 "cells": [
  {
   "cell_type": "code",
   "execution_count": 1,
   "id": "33337e31-06d4-4bf2-8c80-1b4137efa743",
   "metadata": {},
   "outputs": [],
   "source": [
    "import requests\n",
    "import numpy as np\n",
    "import pandas as pd\n",
    "from bs4 import BeautifulSoup as bs\n",
    "from selenium import webdriver\n",
    "import time\n",
    "import lxml.html as lx\n",
    "from lxml import html\n",
    "import csv\n",
    "from selenium.webdriver.chrome.service import Service"
   ]
  },
  {
   "cell_type": "code",
   "execution_count": 2,
   "id": "125029f5-243e-44ec-9b73-cc94ee1a32f1",
   "metadata": {},
   "outputs": [],
   "source": [
    "def download_html(folder, url_start, startyear, endyear):\n",
    "    if not os.path.exists(folder):\n",
    "        os.makedirs(folder)\n",
    "    \n",
    "    driver = webdriver.Chrome(service=Service(ChromeDriverManager().install()))\n",
    "    for year in range(startyear,endyear):\n",
    "        url = url_start.format(year)\n",
    "        driver.get(url)\n",
    "        driver.execute_script(\"window.scrollTo(1,10000)\")\n",
    "        time.sleep(1)\n",
    "        html = driver.page_source\n",
    "        with open(f\"{folder}/{year}.html\", \"w+\") as f:\n",
    "            f.write(html)"
   ]
  },
  {
   "cell_type": "code",
   "execution_count": 4,
   "id": "43b74454-01b4-40a2-b5d0-164c7be60328",
   "metadata": {},
   "outputs": [
    {
     "data": {
      "text/plain": [
       "['crd',\n",
       " 'atl',\n",
       " 'rav',\n",
       " 'buf',\n",
       " 'car',\n",
       " 'chi',\n",
       " 'cin',\n",
       " 'cle',\n",
       " 'dal',\n",
       " 'den',\n",
       " 'det',\n",
       " 'gnb',\n",
       " 'clt',\n",
       " 'jax',\n",
       " 'kan',\n",
       " 'rai',\n",
       " 'sdg',\n",
       " 'ram',\n",
       " 'mia',\n",
       " 'min',\n",
       " 'nwe',\n",
       " 'nor',\n",
       " 'nyg',\n",
       " 'nyj',\n",
       " 'phi',\n",
       " 'pit',\n",
       " 'sfo',\n",
       " 'sea',\n",
       " 'tam',\n",
       " 'oti',\n",
       " 'was']"
      ]
     },
     "execution_count": 4,
     "metadata": {},
     "output_type": "execute_result"
    }
   ],
   "source": [
    "with open('pfr_nfl_teams.txt') as file:\n",
    "    data = file.read().splitlines()\n",
    "data = [x.strip(' ') for x in data]\n",
    "data"
   ]
  },
  {
   "cell_type": "code",
   "execution_count": null,
   "id": "0e31c86f-3847-422c-8bd2-4ce5c7e65a41",
   "metadata": {},
   "outputs": [],
   "source": [
    "from selenium import webdriver\n",
    "from selenium.webdriver.chrome.service import Service\n",
    "from webdriver_manager.chrome import ChromeDriverManager\n",
    "\n",
    "driver = webdriver.Chrome(service=Service(ChromeDriverManager().install()))\n",
    "for year in range(2000,2023):\n",
    "    for team in data:\n",
    "        url = f'https://www.pro-football-reference.com/teams/{team}/{year}_roster.htm'\n",
    "        driver.get(url)\n",
    "        driver.execute_script(\"window.scrollTo(1,10000)\")\n",
    "        time.sleep(1)\n",
    "        html = driver.page_source\n",
    "        with open(f\"rosters/{team}{year}.html\", \"w+\") as f:\n",
    "            f.write(html)"
   ]
  },
  {
   "cell_type": "code",
   "execution_count": null,
   "id": "7154de96-a2ae-4f13-84b3-a47afb1a56d4",
   "metadata": {},
   "outputs": [],
   "source": [
    "download_html('passingstats', 'https://www.pro-football-reference.com/years/{}/passing.htm', 2000,2023)\n",
    "download_html('rushingstats', 'https://www.pro-football-reference.com/years/{}/rushing.htm', 2000,2023)\n",
    "download_html('receivingstats', 'https://www.pro-football-reference.com/years/{}/receiving.htm', 2000,2023)\n",
    "download_html('defense', 'https://www.pro-football-reference.com/years/{}/opp.htm', 2000,2023)\n",
    "download_html('probowl', 'https://www.pro-football-reference.com/years/{}/probowl.htm', 2000,2023)\n",
    "download_html('playoffs', 'https://www.pro-football-reference.com/years/{}/playoffs.htm', 2002,2023)\n",
    "download_html('standings', 'https://www.pro-football-reference.com/years/{}/index.htm', 2000,2023)\n",
    "download_html('all_pro', 'https://www.pro-football-reference.com/years/{}/allpro.htm', 2000,2023)"
   ]
  }
 ],
 "metadata": {
  "kernelspec": {
   "display_name": "Python 3 (ipykernel)",
   "language": "python",
   "name": "python3"
  },
  "language_info": {
   "codemirror_mode": {
    "name": "ipython",
    "version": 3
   },
   "file_extension": ".py",
   "mimetype": "text/x-python",
   "name": "python",
   "nbconvert_exporter": "python",
   "pygments_lexer": "ipython3",
   "version": "3.12.2"
  }
 },
 "nbformat": 4,
 "nbformat_minor": 5
}
