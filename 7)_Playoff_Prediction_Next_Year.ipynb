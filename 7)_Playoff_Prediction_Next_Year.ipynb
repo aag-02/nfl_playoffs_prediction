{
  "nbformat": 4,
  "nbformat_minor": 0,
  "metadata": {
    "colab": {
      "provenance": []
    },
    "kernelspec": {
      "name": "python3",
      "display_name": "Python 3"
    },
    "language_info": {
      "name": "python"
    }
  },
  "cells": [
    {
      "cell_type": "code",
      "source": [
        "import pandas as pd\n",
        "from sklearn.model_selection import train_test_split, GridSearchCV\n",
        "from sklearn.preprocessing import StandardScaler\n",
        "from sklearn.ensemble import GradientBoostingClassifier, RandomForestClassifier\n",
        "import xgboost as xgb\n",
        "from sklearn.metrics import accuracy_score, classification_report\n",
        "\n"
      ],
      "metadata": {
        "id": "F0rnabUUJTKP"
      },
      "execution_count": 10,
      "outputs": []
    },
    {
      "cell_type": "code",
      "source": [
        "projected_standings_awards = pd.read_csv('team_records/nextyear_awards-playoffs.csv', index_col=[0])\n",
        "projected_stats = pd.read_csv('team_records/projected_stats.csv', index_col = [0])"
      ],
      "metadata": {
        "id": "e1qh6gIDJTMT"
      },
      "execution_count": 3,
      "outputs": []
    },
    {
      "cell_type": "code",
      "source": [
        "projected_stats.dropna(inplace=True)\n",
        "projected_stats.info()"
      ],
      "metadata": {
        "colab": {
          "base_uri": "https://localhost:8080/"
        },
        "id": "xgQhjBfUJreC",
        "outputId": "a19eac40-0bb6-4535-93e4-b06123bdc8fb"
      },
      "execution_count": 4,
      "outputs": [
        {
          "output_type": "stream",
          "name": "stdout",
          "text": [
            "<class 'pandas.core.frame.DataFrame'>\n",
            "Index: 663 entries, 1 to 701\n",
            "Data columns (total 9 columns):\n",
            " #   Column              Non-Null Count  Dtype  \n",
            "---  ------              --------------  -----  \n",
            " 0   Tm                  663 non-null    object \n",
            " 1   Year                663 non-null    int64  \n",
            " 2   ProjectedQBOverall  663 non-null    float64\n",
            " 3   LastYrQBOverall     663 non-null    float64\n",
            " 4   ProjectedWROverall  663 non-null    float64\n",
            " 5   LastYrWROverall     663 non-null    float64\n",
            " 6   ProjectedRBOverall  663 non-null    float64\n",
            " 7   LastYrRBOverall     663 non-null    float64\n",
            " 8   D_Overall           663 non-null    float64\n",
            "dtypes: float64(7), int64(1), object(1)\n",
            "memory usage: 51.8+ KB\n"
          ]
        }
      ]
    },
    {
      "cell_type": "code",
      "source": [
        "data = projected_stats.merge(projected_standings_awards, how = 'outer', on = ['Tm', 'Year'])\n",
        "data.dropna(inplace=True)"
      ],
      "metadata": {
        "id": "deiHBx8JJscD"
      },
      "execution_count": 5,
      "outputs": []
    },
    {
      "cell_type": "code",
      "source": [
        "target = 'MakePlayoffsNextYear'\n",
        "features = [col for col in data.columns if col not in [target, 'Tm', 'Year']]\n",
        "\n",
        "X = data[features]\n",
        "y = data[target]\n",
        "\n",
        "X_train, X_test, y_train, y_test = train_test_split(X, y, test_size=0.2, random_state=42, stratify=y)\n",
        "\n",
        "scaler = StandardScaler()\n",
        "X_train_scaled = scaler.fit_transform(X_train)\n",
        "X_test_scaled = scaler.transform(X_test)"
      ],
      "metadata": {
        "id": "s963tItgJy6X"
      },
      "execution_count": 7,
      "outputs": []
    },
    {
      "cell_type": "code",
      "source": [
        "rf_param_grid = {\n",
        "    'n_estimators': [50, 100, 200],\n",
        "    'max_depth': [None, 10, 20],\n",
        "    'min_samples_split': [2, 5, 10],\n",
        "    'min_samples_leaf': [1, 2, 4],\n",
        "}\n",
        "\n",
        "gb_param_grid = {\n",
        "    'n_estimators': [50, 100, 200],\n",
        "    'learning_rate': [0.01, 0.1, 0.2],\n",
        "    'max_depth': [3, 5, 7],\n",
        "}\n",
        "\n",
        "xgb_param_grid = {\n",
        "    'n_estimators': [50, 100, 200],\n",
        "    'learning_rate': [0.01, 0.1, 0.2],\n",
        "    'max_depth': [3, 5, 7],\n",
        "    'subsample': [0.8, 1.0],\n",
        "    'colsample_bytree': [0.8, 1.0],\n",
        "}\n",
        "\n",
        "rf_model = RandomForestClassifier(random_state=42)\n",
        "gb_model = GradientBoostingClassifier(random_state=42)\n",
        "xgb_model = xgb.XGBClassifier(random_state=42, use_label_encoder=False, eval_metric='logloss')\n"
      ],
      "metadata": {
        "id": "i8MopWhVKQLN"
      },
      "execution_count": 11,
      "outputs": []
    },
    {
      "cell_type": "code",
      "source": [
        "rf_grid_search = GridSearchCV(rf_model, rf_param_grid, cv=3, scoring='accuracy', n_jobs=-1)\n",
        "rf_grid_search.fit(X_train_scaled, y_train)\n",
        "rf_best_model = rf_grid_search.best_estimator_\n",
        "rf_best_params = rf_grid_search.best_params_\n",
        "\n"
      ],
      "metadata": {
        "id": "GHwf5vi6NrVM"
      },
      "execution_count": 12,
      "outputs": []
    },
    {
      "cell_type": "code",
      "source": [
        "rf_best_pred = rf_best_model.predict(X_test_scaled)\n",
        "rf_best_accuracy = accuracy_score(y_test, rf_best_pred)\n",
        "print(\"Random Forest Best Parameters:\", rf_best_params)\n",
        "print(\"Random Forest Accuracy:\", rf_best_accuracy)"
      ],
      "metadata": {
        "colab": {
          "base_uri": "https://localhost:8080/"
        },
        "id": "_kV-LVzCTZb1",
        "outputId": "634c8bc4-00af-480e-89cb-114016e6a371"
      },
      "execution_count": 13,
      "outputs": [
        {
          "output_type": "stream",
          "name": "stdout",
          "text": [
            "Random Forest Best Parameters: {'max_depth': 10, 'min_samples_leaf': 1, 'min_samples_split': 2, 'n_estimators': 100}\n",
            "Random Forest Accuracy: 0.5714285714285714\n"
          ]
        }
      ]
    },
    {
      "cell_type": "code",
      "source": [
        "print(classification_report(y_test, rf_best_pred))"
      ],
      "metadata": {
        "colab": {
          "base_uri": "https://localhost:8080/"
        },
        "id": "VvVOso96TiKR",
        "outputId": "a7c3057d-71c3-450b-ecd9-ddd744b9778a"
      },
      "execution_count": 14,
      "outputs": [
        {
          "output_type": "stream",
          "name": "stdout",
          "text": [
            "              precision    recall  f1-score   support\n",
            "\n",
            "         0.0       0.62      0.78      0.69        82\n",
            "         1.0       0.40      0.24      0.30        51\n",
            "\n",
            "    accuracy                           0.57       133\n",
            "   macro avg       0.51      0.51      0.49       133\n",
            "weighted avg       0.54      0.57      0.54       133\n",
            "\n"
          ]
        }
      ]
    },
    {
      "cell_type": "code",
      "source": [
        "gb_grid_search = GridSearchCV(gb_model, gb_param_grid, cv=3, scoring='accuracy', n_jobs=-1)\n",
        "gb_grid_search.fit(X_train_scaled, y_train)\n",
        "gb_best_model = gb_grid_search.best_estimator_\n",
        "gb_best_params = gb_grid_search.best_params_"
      ],
      "metadata": {
        "id": "l4v-bFyvTOXl"
      },
      "execution_count": 15,
      "outputs": []
    },
    {
      "cell_type": "code",
      "source": [
        "gb_best_pred = gb_best_model.predict(X_test_scaled)\n",
        "gb_best_accuracy = accuracy_score(y_test, gb_best_pred)\n",
        "print(\"Gradient Boosting Best Parameters:\", gb_best_params)\n",
        "print(\"Gradient Boosting Accuracy:\", gb_best_accuracy)"
      ],
      "metadata": {
        "colab": {
          "base_uri": "https://localhost:8080/"
        },
        "id": "uCeuAPX0Ta4z",
        "outputId": "d90fdcd0-ad75-4892-b44e-588b49b13b7e"
      },
      "execution_count": 16,
      "outputs": [
        {
          "output_type": "stream",
          "name": "stdout",
          "text": [
            "Gradient Boosting Best Parameters: {'learning_rate': 0.1, 'max_depth': 3, 'n_estimators': 50}\n",
            "Gradient Boosting Accuracy: 0.5639097744360902\n"
          ]
        }
      ]
    },
    {
      "cell_type": "code",
      "source": [
        "print(classification_report(y_test, gb_best_pred))"
      ],
      "metadata": {
        "colab": {
          "base_uri": "https://localhost:8080/"
        },
        "id": "KLr9XgvjTn-p",
        "outputId": "c27f1f2d-d590-4054-c4ce-57e3b3714786"
      },
      "execution_count": 17,
      "outputs": [
        {
          "output_type": "stream",
          "name": "stdout",
          "text": [
            "              precision    recall  f1-score   support\n",
            "\n",
            "         0.0       0.62      0.77      0.68        82\n",
            "         1.0       0.39      0.24      0.29        51\n",
            "\n",
            "    accuracy                           0.56       133\n",
            "   macro avg       0.50      0.50      0.49       133\n",
            "weighted avg       0.53      0.56      0.53       133\n",
            "\n"
          ]
        }
      ]
    },
    {
      "cell_type": "code",
      "source": [
        "xgb_grid_search = GridSearchCV(xgb_model, xgb_param_grid, cv=3, scoring='accuracy', n_jobs=-1)\n",
        "xgb_grid_search.fit(X_train_scaled, y_train)\n",
        "xgb_best_model = xgb_grid_search.best_estimator_\n",
        "xgb_best_params = xgb_grid_search.best_params_\n"
      ],
      "metadata": {
        "colab": {
          "base_uri": "https://localhost:8080/"
        },
        "id": "HBwoLm9lTU0B",
        "outputId": "f529e25d-5cf4-4337-8d0a-1b78443a4943"
      },
      "execution_count": 18,
      "outputs": [
        {
          "output_type": "stream",
          "name": "stderr",
          "text": [
            "/usr/local/lib/python3.10/dist-packages/xgboost/core.py:158: UserWarning: [04:11:05] WARNING: /workspace/src/learner.cc:740: \n",
            "Parameters: { \"use_label_encoder\" } are not used.\n",
            "\n",
            "  warnings.warn(smsg, UserWarning)\n"
          ]
        }
      ]
    },
    {
      "cell_type": "code",
      "source": [
        "xgb_best_pred = xgb_best_model.predict(X_test_scaled)\n",
        "xgb_best_accuracy = accuracy_score(y_test, xgb_best_pred)\n",
        "print(\"XGBoost Best Parameters:\", xgb_best_params)\n",
        "print(\"XGBoost Accuracy:\", xgb_best_accuracy)"
      ],
      "metadata": {
        "colab": {
          "base_uri": "https://localhost:8080/"
        },
        "id": "DrGxuL8hTb3F",
        "outputId": "33cb27d8-8c9b-4ea6-856d-c17d9d510e39"
      },
      "execution_count": 19,
      "outputs": [
        {
          "output_type": "stream",
          "name": "stdout",
          "text": [
            "XGBoost Best Parameters: {'colsample_bytree': 1.0, 'learning_rate': 0.01, 'max_depth': 3, 'n_estimators': 200, 'subsample': 1.0}\n",
            "XGBoost Accuracy: 0.5864661654135338\n"
          ]
        }
      ]
    },
    {
      "cell_type": "code",
      "source": [
        "print(classification_report(y_test, xgb_best_pred))"
      ],
      "metadata": {
        "colab": {
          "base_uri": "https://localhost:8080/"
        },
        "id": "O2esw51bTXRk",
        "outputId": "bb078bc6-f227-46c7-8986-09999615b7e3"
      },
      "execution_count": 20,
      "outputs": [
        {
          "output_type": "stream",
          "name": "stdout",
          "text": [
            "              precision    recall  f1-score   support\n",
            "\n",
            "         0.0       0.62      0.84      0.72        82\n",
            "         1.0       0.41      0.18      0.25        51\n",
            "\n",
            "    accuracy                           0.59       133\n",
            "   macro avg       0.52      0.51      0.48       133\n",
            "weighted avg       0.54      0.59      0.54       133\n",
            "\n"
          ]
        }
      ]
    }
  ]
}